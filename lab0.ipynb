{
  "nbformat": 4,
  "nbformat_minor": 0,
  "metadata": {
    "colab": {
      "provenance": [],
      "authorship_tag": "ABX9TyPu3qZzUITO5+u1qUx3F8ss",
      "include_colab_link": true
    },
    "kernelspec": {
      "name": "python3",
      "display_name": "Python 3"
    },
    "language_info": {
      "name": "python"
    }
  },
  "cells": [
    {
      "cell_type": "markdown",
      "metadata": {
        "id": "view-in-github",
        "colab_type": "text"
      },
      "source": [
        "<a href=\"https://colab.research.google.com/github/SretenGlavinceski/Linear_Algebra_2024/blob/master/lab0.ipynb\" target=\"_parent\"><img src=\"https://colab.research.google.com/assets/colab-badge.svg\" alt=\"Open In Colab\"/></a>"
      ]
    },
    {
      "cell_type": "markdown",
      "source": [
        "# **Лабораториска вежба 0**"
      ],
      "metadata": {
        "id": "ctSuMHEs1HW1"
      }
    },
    {
      "cell_type": "markdown",
      "source": [
        "### Задача 1.\n",
        "Со помош на `list comprehension` да се дефинираат следните `python` листи (без `numpy`):  \n",
        "1. Листа од сите непарни природни броеви помали од 30.\n",
        "2. Листа од сите прости природни броеви (броеви кои се делат само со себе и 1) помали од 100.\n",
        "3. Матрица (листа од листи) со големина $3 \\times 4$ каде елементот $m_{i, ~j}$ во редот $i$ и колоната $j$ ја прима вредноста $i \\cdot j$."
      ],
      "metadata": {
        "id": "9rh2OXs5vOtP"
      }
    },
    {
      "cell_type": "code",
      "execution_count": 5,
      "metadata": {
        "colab": {
          "base_uri": "https://localhost:8080/"
        },
        "id": "eqQO1fmdvJCz",
        "outputId": "03b5189f-fde7-4bb8-8416-be879f6569f6"
      },
      "outputs": [
        {
          "output_type": "stream",
          "name": "stdout",
          "text": [
            "[1, 3, 5, 7, 9, 11, 13, 15, 17, 19, 21, 23, 25, 27, 29]\n"
          ]
        }
      ],
      "source": [
        "# 1.\n",
        "odds = [num for num in range(30) if num % 2 != 0]\n",
        "print(odds)"
      ]
    },
    {
      "cell_type": "code",
      "source": [
        "# 2.\n",
        "\n",
        "def is_prime(number):\n",
        "    return not any([number % i == 0 for i in range(2, number)])\n",
        "\n",
        "primes = [num for num in range(100) if is_prime(num)]\n",
        "print(primes)"
      ],
      "metadata": {
        "colab": {
          "base_uri": "https://localhost:8080/"
        },
        "id": "GMMy1q2avfPy",
        "outputId": "dcc4ecd9-eaa3-4ae2-fd6f-900e535cc49f"
      },
      "execution_count": 7,
      "outputs": [
        {
          "output_type": "stream",
          "name": "stdout",
          "text": [
            "[0, 1, 2, 3, 5, 7, 11, 13, 17, 19, 23, 29, 31, 37, 41, 43, 47, 53, 59, 61, 67, 71, 73, 79, 83, 89, 97]\n"
          ]
        }
      ]
    },
    {
      "cell_type": "code",
      "source": [
        "# 3.\n",
        "\n",
        "matrix = [[i * j for i in range(3)] for j in range(4)]\n",
        "_ = [print(row) for row in matrix]"
      ],
      "metadata": {
        "colab": {
          "base_uri": "https://localhost:8080/"
        },
        "id": "vdide7jLv68o",
        "outputId": "bc940ba2-bd3e-456a-c049-1d0797b19d0f"
      },
      "execution_count": 10,
      "outputs": [
        {
          "output_type": "stream",
          "name": "stdout",
          "text": [
            "[0, 0, 0]\n",
            "[0, 1, 2]\n",
            "[0, 2, 4]\n",
            "[0, 3, 6]\n"
          ]
        }
      ]
    },
    {
      "cell_type": "markdown",
      "source": [
        "### Задача 2.\n",
        "Со помош на `numpy` низи да се пресметаат следните изрази  \n",
        "1. $$2 \\cdot A \\circ B$$  \n",
        "каде $A = \\begin{pmatrix}1 \\\\ 3 \\\\ 4 \\\\ 7\\end{pmatrix}$ и $B = \\begin{pmatrix}5 \\\\ 2 \\\\ 1 \\\\ 2\\end{pmatrix}$.  \n",
        "2. $$(M - N) \\circ T$$  \n",
        "каде $M = \\begin{pmatrix}1 & 10 & 4 \\\\ 3 & 4 & 0\\end{pmatrix}$, $N = \\begin{pmatrix}0 & 2 & 2\\\\ 7 & 1 & 5\\end{pmatrix}$ и $T = \\begin{pmatrix}\\frac12 & 1 & 0 \\\\ 0 & 1 & \\frac14\\end{pmatrix}$.  \n",
        "3. $$\\frac{1}{n+1} H_n \\circ I_n$$\n",
        "каде $H_n = \\begin{pmatrix}1 & 2 & 4 & \\cdots & 2^{n-1} \\\\ 2 & 4 & 8 & \\cdots & 2^n \\\\ \\vdots & \\vdots & \\vdots & \\ddots & \\vdots \\\\ 2^{n-1} & 2^n & 2^{n+1} & \\cdots & 2^{2n-2}\\end{pmatrix}$ и $I_n \\begin{pmatrix}1 & 0 & 0 & \\cdots & 0 \\\\ 0 & 1 & 0 & \\cdots & 0 \\\\ \\vdots & \\vdots &  \\vdots & \\ddots & \\vdots \\\\ 0 & 0 & 0 & \\cdots & 1\\end{pmatrix}$ т.е. е единечната квадратна матрица од ред $n$.\n",
        "\n",
        "Сите операции се дефинирани елемент-по-елемент.   \n",
        "За 2.3. може да се дефинира функција со влезен параметар $n$ која ќе ја генерира соодветната матрица пресметана од дадениот израз."
      ],
      "metadata": {
        "id": "XPuiUeqdwQDu"
      }
    },
    {
      "cell_type": "code",
      "source": [
        "# 1.\n",
        "import numpy as np\n",
        "\n",
        "matrix_1 = np.array([[1, 3, 4, 7]])\n",
        "matrix_2 = np.array([[5, 2, 1, 2]])\n",
        "\n",
        "result = 2 * matrix_1 * matrix_2\n",
        "\n",
        "print(result)"
      ],
      "metadata": {
        "colab": {
          "base_uri": "https://localhost:8080/"
        },
        "id": "JVmTllmkwbvE",
        "outputId": "040361aa-d1c4-47e6-e3d8-d23c3d9dd45c"
      },
      "execution_count": 13,
      "outputs": [
        {
          "output_type": "stream",
          "name": "stdout",
          "text": [
            "[[10 12  8 28]]\n"
          ]
        }
      ]
    },
    {
      "cell_type": "code",
      "source": [
        "# 2.\n",
        "import numpy as np\n",
        "\n",
        "matrix_M = np.array([[1, 10, 4], [3, 4, 0]])\n",
        "matrix_N = np.array([[0, 2, 2], [7, 1, 5]])\n",
        "matrix_T = np.array([[0.5, 1, 0], [0, 1, 0.25]])\n",
        "\n",
        "result = (matrix_M - matrix_N) * matrix_T\n",
        "\n",
        "print(result)"
      ],
      "metadata": {
        "colab": {
          "base_uri": "https://localhost:8080/"
        },
        "id": "HMwy2oJpw65g",
        "outputId": "a0f60dfe-a737-4fdb-e8c0-aaad7620e01d"
      },
      "execution_count": 15,
      "outputs": [
        {
          "output_type": "stream",
          "name": "stdout",
          "text": [
            "[[ 0.5   8.    0.  ]\n",
            " [-0.    3.   -1.25]]\n"
          ]
        }
      ]
    },
    {
      "cell_type": "code",
      "source": [
        "# 3.\n",
        "import numpy as np\n",
        "\n",
        "def create_Hn_matrix(n):\n",
        "  return np.array([[pow(2, i + j) for i in range(n)] for j in range(n)])\n",
        "\n",
        "\n",
        "n = int(input(\"Enter value for n: \"))\n",
        "\n",
        "matrix_Hn = create_Hn_matrix(n)\n",
        "matrix_In = np.eye(n)\n",
        "\n",
        "print(matrix_Hn, \"\\n\")\n",
        "print(matrix_In, \"\\n\")\n",
        "\n",
        "result = (1 / (n + 1)) * matrix_Hn * matrix_In\n",
        "print(result)"
      ],
      "metadata": {
        "colab": {
          "base_uri": "https://localhost:8080/"
        },
        "id": "oDHTNizsxiVc",
        "outputId": "0e4fa0ff-b41f-4594-d102-e9112c2171e8"
      },
      "execution_count": 18,
      "outputs": [
        {
          "output_type": "stream",
          "name": "stdout",
          "text": [
            "Enter value for n: 4\n",
            "[[ 1  2  4  8]\n",
            " [ 2  4  8 16]\n",
            " [ 4  8 16 32]\n",
            " [ 8 16 32 64]] \n",
            "\n",
            "[[1. 0. 0. 0.]\n",
            " [0. 1. 0. 0.]\n",
            " [0. 0. 1. 0.]\n",
            " [0. 0. 0. 1.]] \n",
            "\n",
            "[[ 0.2  0.   0.   0. ]\n",
            " [ 0.   0.8  0.   0. ]\n",
            " [ 0.   0.   3.2  0. ]\n",
            " [ 0.   0.   0.  12.8]]\n"
          ]
        }
      ]
    },
    {
      "cell_type": "markdown",
      "source": [
        "### Задача 3.\n",
        "---\n",
        "\n",
        "Дефинирај класа `Array` која ќе чува `numpy` низа од случајни вредности. Класата треба да содржи **конструктор** со параметар `shape` која ќе биде листа од димензиите на низата. Конструкторот треба да ја иницијализира низата со случајни вредности на интервалот \\(0, 5\\].\n",
        "\n",
        "Класата содржи функција членка **compare_array** која како аргумент прима објект од класата `Array`.  \n",
        "Функцијата враќа *boolean*, и тоа *False* ако низите имаат различни димензии односно *shape* параметри.  \n",
        "Во случај низите да имаат исти димензии, се споредува елемент-по-елемент дали елементите во `self` објектот се во просечен случај поголеми од елементите во објектот примен како аргумент.\n",
        "Се враќа *True* ако `self` има повеќе поголеми елементи, инаку се враќа вредноста `False`."
      ],
      "metadata": {
        "id": "aDcYa0uUywA8"
      }
    },
    {
      "cell_type": "code",
      "source": [
        "import numpy as np\n",
        "\n",
        "class Array:\n",
        "  def __init__(self, shape):\n",
        "    self.np_array = 5 * np.random.random(shape)\n",
        "\n",
        "  def compare_array(self, arr_object):\n",
        "    if self.np_array.shape == arr_object.np_array.shape:\n",
        "      count = sum(1 for i, j in zip(self.np_array.flatten(), arr_object.np_array.flatten()) if i > j)\n",
        "      return count >= self.np_array.size / 2\n",
        "    return False\n",
        "\n",
        "\n",
        "array_1 = Array([2, 4])\n",
        "array_2 = Array([2, 4])\n",
        "\n",
        "print(array_1.np_array, \"\\n\")\n",
        "print(array_2.np_array, \"\\n\")\n",
        "\n",
        "print(array_1.compare_array(array_2))"
      ],
      "metadata": {
        "colab": {
          "base_uri": "https://localhost:8080/"
        },
        "id": "JJ1gEbDBzBqg",
        "outputId": "4c30c612-0413-4c7d-a7f8-fa6a9c826ff8"
      },
      "execution_count": 30,
      "outputs": [
        {
          "output_type": "stream",
          "name": "stdout",
          "text": [
            "[[4.31861359 4.87729768 0.38859496 2.31455926]\n",
            " [1.37761729 3.60567929 3.12021806 3.42683789]] \n",
            "\n",
            "[[3.74047925 2.77251185 2.30881696 0.08672625]\n",
            " [2.31480784 2.00524633 4.09368954 4.32054724]] \n",
            "\n",
            "True\n"
          ]
        }
      ]
    }
  ]
}